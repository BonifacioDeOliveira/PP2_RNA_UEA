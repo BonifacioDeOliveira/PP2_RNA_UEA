{
 "cells": [
  {
   "cell_type": "code",
   "execution_count": 33,
   "metadata": {},
   "outputs": [],
   "source": [
    "import numpy as np\n",
    "import pandas as pd\n",
    "from random import  uniform"
   ]
  },
  {
   "cell_type": "markdown",
   "metadata": {},
   "source": [
    "# Classe do neurônio de Rosenblatt"
   ]
  },
  {
   "cell_type": "code",
   "execution_count": 34,
   "metadata": {},
   "outputs": [],
   "source": [
    "class Neuronio:\n",
    "    \n",
    "    def __init__(self):\n",
    "        self.dados = np.array([])\n",
    "        self.carrega_dados()\n",
    "        self.pesos = np.array([\n",
    "            uniform(-100, 100),\n",
    "            uniform(-1, 1),\n",
    "            uniform(-.5, .5)\n",
    "        ])\n",
    "        \n",
    "        self.teta = 0\n",
    "        self.ta = 0.1\n",
    "        self.vies = -1\n",
    "        self.total_de_ajustes = 0\n",
    "        self.epocas = 0\n",
    "    \n",
    "    def muda_pesos_iniciais(self,x1,x2,x3):\n",
    "        self.pesos[0] = self.pesos[0]*x1\n",
    "        self.pesos[1] = self.pesos[1]*x2\n",
    "        self.pesos[2] = self.pesos[2]*x3\n",
    "    \n",
    "    def carrega_dados(self):\n",
    "        dataset = np.fromfile('dataAll.txt')\n",
    "        linhas  = len(dataset)//3\n",
    "        colunas = 3\n",
    "        self.dados=dataset.reshape(linhas, colunas)\n",
    "    \n",
    "    def funcao_ativacao(self,num):\n",
    "        if (num>=self.teta):\n",
    "            return 1\n",
    "        else:\n",
    "            return 0\n",
    "        \n",
    "    def somatorio(self):\n",
    "        numero_de_ajustes = 0\n",
    "        \n",
    "        for i in self.dados:\n",
    "            \n",
    "            entrada = np.concatenate((np.array([self.vies]), i[:2]))\n",
    "            yd = int(i[2:])\n",
    "            yr = round(entrada.dot(self.pesos),4)\n",
    "            yr = self.funcao_ativacao(yr)\n",
    "            \n",
    "            print(\"Pesos: \",self.pesos)\n",
    "            print(\"Entrada: \",entrada,\" Yd: \",yd,\" Yr: \",yr,\"\\n\")\n",
    "            \n",
    "            numero_de_ajustes += 1\n",
    "            self.total_de_ajustes += 1\n",
    "            \n",
    "            self.pesos = self.ajuste_de_peso(yd, yr, entrada)\n",
    "            \n",
    "            if(yr != yd):\n",
    "                print(\"Numero de ajustes: \",numero_de_ajustes)\n",
    "                return False\n",
    "            \n",
    "        print(\"Numero de ajustes: \",numero_de_ajustes)\n",
    "        return True\n",
    "\n",
    "    def ajuste_de_peso(self, yd, yr, entrada):\n",
    "        delta = self.ta * np.array(yd - yr).dot(entrada)\n",
    "        novos_pesos = self.pesos + delta\n",
    "        \n",
    "        return novos_pesos\n",
    "    \n",
    "    def treino(self):\n",
    "        self.epocas = 1\n",
    "        print(\"-----------------------------\\nÉpoca: \",self.epocas,\"\\n\")\n",
    "        while(self.somatorio() == False):\n",
    "            self.x = 0\n",
    "            self.epocas+=1\n",
    "            print(\"-----------------------------\\nÉpoca: \",self.epocas,\"\\n\")\n",
    "            \n",
    "        print(\"\\n\\nTotal de épocas: \",self.epocas)\n",
    "        print(\"\\n\\nTotal de ajustes feitos: \",self.total_de_ajustes)\n",
    "        \n",
    "n1 = Neuronio()\n",
    "n2 = Neuronio()\n",
    "n3 = Neuronio()\n",
    "n4 = Neuronio()\n",
    "n5 = Neuronio()\n",
    "n6 = Neuronio()\n",
    "n7 = Neuronio()\n",
    "n8 = Neuronio()\n",
    "n9 = Neuronio()"
   ]
  },
  {
   "cell_type": "code",
   "execution_count": 35,
   "metadata": {},
   "outputs": [],
   "source": [
    "n1.muda_pesos_iniciais(0.4, 0.1, 0.01)\n",
    "n2.muda_pesos_iniciais(0.4, 0.01, 0.1)\n",
    "n3.muda_pesos_iniciais(0.4, 0.4, 0.4)\n",
    "n4.muda_pesos_iniciais(0.1, 0.4, 0.01)\n",
    "n5.muda_pesos_iniciais(0.1, 0.01, 0.4)\n",
    "n6.muda_pesos_iniciais(0.1, 0.1, 0.1)\n",
    "n7.muda_pesos_iniciais(0.01, 0.4, 0.1)\n",
    "n8.muda_pesos_iniciais(0.01, 0.1, 0.4)\n",
    "n9.muda_pesos_iniciais(0.01, 0.01, 0.01)"
   ]
  },
  {
   "cell_type": "code",
   "execution_count": null,
   "metadata": {},
   "outputs": [],
   "source": []
  },
  {
   "cell_type": "code",
   "execution_count": null,
   "metadata": {},
   "outputs": [],
   "source": []
  },
  {
   "cell_type": "code",
   "execution_count": null,
   "metadata": {},
   "outputs": [],
   "source": []
  }
 ],
 "metadata": {
  "kernelspec": {
   "display_name": "Python 3",
   "language": "python",
   "name": "python3"
  },
  "language_info": {
   "codemirror_mode": {
    "name": "ipython",
    "version": 3
   },
   "file_extension": ".py",
   "mimetype": "text/x-python",
   "name": "python",
   "nbconvert_exporter": "python",
   "pygments_lexer": "ipython3",
   "version": "3.8.3"
  }
 },
 "nbformat": 4,
 "nbformat_minor": 4
}
